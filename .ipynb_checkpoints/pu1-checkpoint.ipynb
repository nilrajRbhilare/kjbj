{
 "cells": [
  {
   "cell_type": "code",
   "execution_count": 1,
   "id": "59bd947c-88fd-4421-9814-534c58a65172",
   "metadata": {},
   "outputs": [
    {
     "name": "stdout",
     "output_type": "stream",
     "text": [
      "jwj\n"
     ]
    }
   ],
   "source": [
    "print(\"jwj\")\n"
   ]
  },
  {
   "cell_type": "code",
   "execution_count": null,
   "id": "925cc22d-39e0-471c-9457-735dd758ba82",
   "metadata": {},
   "outputs": [],
   "source": []
  }
 ],
 "metadata": {
  "kernelspec": {
   "display_name": "Python 3 (ipykernel)",
   "language": "python",
   "name": "python3"
  },
  "language_info": {
   "codemirror_mode": {
    "name": "ipython",
    "version": 3
   },
   "file_extension": ".py",
   "mimetype": "text/x-python",
   "name": "python",
   "nbconvert_exporter": "python",
   "pygments_lexer": "ipython3",
   "version": "3.12.0"
  }
 },
 "nbformat": 4,
 "nbformat_minor": 5
}
